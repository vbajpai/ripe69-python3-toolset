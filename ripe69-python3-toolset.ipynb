{
 "metadata": {
  "name": "",
  "signature": "sha256:616954edb87de67aa69f2651dc3e782de65022f982eb71f58f45f1d68a96927c"
 },
 "nbformat": 3,
 "nbformat_minor": 0,
 "worksheets": [
  {
   "cells": [
    {
     "cell_type": "markdown",
     "metadata": {},
     "source": [
      "<br/>\n",
      "\n",
      "Measurement Research within the Python3 Ecosystem\n",
      "============================================\n",
      "\n",
      "### [Steffie Jacob Eravuchira](mailto: s.eravuchira@jacobs-university.de) ,  [Vaibhav Bajpai](mailto: v.bajpai@jacobs-university.de) , [J\u00fcrgen Sch\u00f6nw\u00e4lder](mailto: j.schoenwaelder@jacobs-university.de)\n",
      "\n",
      "School of Engineering and Sciences,  \n",
      "Campus Ring 1, Jacobs University Bremen,  \n",
      "Bremen 28759  \n",
      "Bremen, Germany  \n",
      "\n",
      "<img id=\"ripe69\" align=\"left\" width=\"20%\" src=\"http://teamarin.net/wp-content/uploads/2013/11/RIPE-69-London.png\">  \n",
      "<br/><br/><br/><br/><br/>\n",
      "***\n",
      "\n",
      "This notebook is available online at: https://github.com/vbajpai/ripe69-python3-toolset\n",
      "\n",
      "<br/>"
     ]
    },
    {
     "cell_type": "markdown",
     "metadata": {},
     "source": [
      "<a id=\"top\">Table of Contents</a>\n",
      "----------------\n",
      "\n",
      "* [Fetching Multi-Dimensional Data](#fetching-multidim-data)\n",
      "* [Frictionless SQL Storage](#frictionless-sql-storage)\n",
      "* [Frictionless Data Retrieval](#frictionless-data-retrieval)\n",
      "* [Data Analysis](#data-analysis)\n",
      "* [Data Visualisation](#data-visualization)\n",
      "\n",
      "<br/><br/><br/>"
     ]
    },
    {
     "cell_type": "markdown",
     "metadata": {},
     "source": [
      "## <a id=\"fetching-multidim-data\">Fetching Multi-Dimensional Data</a>\n",
      "<hr/>"
     ]
    },
    {
     "cell_type": "markdown",
     "metadata": {},
     "source": [
      "* [`requests`](#requests)\n",
      "* [`requests + atlas.ripe.net`](#requests-ripeatlas)\n",
      "* [`requests + stat.ripe.net`](#requests-ripestat)\n",
      "\n",
      "<br/><br/><br/>"
     ]
    },
    {
     "cell_type": "markdown",
     "metadata": {},
     "source": [
      "<img id=\"requests\" align=\"left\" width=\"15%\" src=\"http://docs.python-requests.org/en/latest/_static/requests-sidebar.png\">"
     ]
    },
    {
     "cell_type": "markdown",
     "metadata": {},
     "source": [
      "### [`requests` &rarr;](http://docs.python-requests.org)"
     ]
    },
    {
     "cell_type": "code",
     "collapsed": false,
     "input": [
      "import requests"
     ],
     "language": "python",
     "metadata": {},
     "outputs": [],
     "prompt_number": 58
    },
    {
     "cell_type": "markdown",
     "metadata": {},
     "source": [
      "#### `get_json_resource_from_absolute_uri(...):`\n",
      "- Takes an absolute URI to a JSON resource and a dictionary of query parameters\n",
      "- Performs HTTP GET request on the absolute URI to fetch the JSON resource.\n",
      "- Returns the JSON resource as a dictionary"
     ]
    },
    {
     "cell_type": "code",
     "collapsed": false,
     "input": [
      "def get_json_resource_from_absolute_uri(url, query_params):\n",
      "    try: res = requests.get(url, params = query_params)\n",
      "    except Exception as e: print(e, file=sys.stderr)\n",
      "    else:\n",
      "        try: res_json = res.json()\n",
      "        except Exception as e: print(e, file=sys.stderr)\n",
      "        else: \n",
      "            return res_json"
     ],
     "language": "python",
     "metadata": {},
     "outputs": [],
     "prompt_number": 59
    },
    {
     "cell_type": "markdown",
     "metadata": {},
     "source": [
      "#### Example Usage:"
     ]
    },
    {
     "cell_type": "code",
     "collapsed": false,
     "input": [
      "import json\n",
      "url = 'https://en.wikipedia.org/w/api.php'\n",
      "query_params = {'action': 'query', 'titles': 'Albert_Einstein', 'prop': 'info', 'format': 'json', 'rawcontinue':'true'}\n",
      "res = get_json_resource_from_absolute_uri(url, query_params)\n",
      "if res: print(json.dumps(res,indent = 4))"
     ],
     "language": "python",
     "metadata": {},
     "outputs": [
      {
       "output_type": "stream",
       "stream": "stdout",
       "text": [
        "{\n",
        "    \"query\": {\n",
        "        \"pages\": {\n",
        "            \"736\": {\n",
        "                \"pageid\": 736,\n",
        "                \"contentmodel\": \"wikitext\",\n",
        "                \"ns\": 0,\n",
        "                \"length\": 119932,\n",
        "                \"touched\": \"2014-11-14T09:32:17Z\",\n",
        "                \"pagelanguage\": \"en\",\n",
        "                \"lastrevid\": 633588628,\n",
        "                \"title\": \"Albert Einstein\"\n",
        "            }\n",
        "        },\n",
        "        \"normalized\": [\n",
        "            {\n",
        "                \"to\": \"Albert Einstein\",\n",
        "                \"from\": \"Albert_Einstein\"\n",
        "            }\n",
        "        ]\n",
        "    }\n",
        "}\n"
       ]
      }
     ],
     "prompt_number": 60
    },
    {
     "cell_type": "markdown",
     "metadata": {},
     "source": [
      "- - -\n",
      "<br/><br/><br/>"
     ]
    },
    {
     "cell_type": "markdown",
     "metadata": {},
     "source": [
      "<img id=\"requests-ripeatlas\" align=\"left\" width=\"25%\" src=\"https://www-static.ripe.net/static/rnd-ui/atlas/static/page/img/probe-v3.jpg\">"
     ]
    },
    {
     "cell_type": "markdown",
     "metadata": {},
     "source": [
      "### `requests` + [`atlas.ripe.net` &rarr;](http://atlas.ripe.net)"
     ]
    },
    {
     "cell_type": "code",
     "collapsed": false,
     "input": [
      "import requests"
     ],
     "language": "python",
     "metadata": {},
     "outputs": [],
     "prompt_number": 61
    },
    {
     "cell_type": "markdown",
     "metadata": {},
     "source": [
      "#### `get_count_registered_atlas_probes(...):`\n",
      "- Returns the count of registered probes using the [RIPE Atlas probe API &rarr;](https://atlas.ripe.net/docs/rest/#probe)"
     ]
    },
    {
     "cell_type": "code",
     "collapsed": false,
     "input": [
      "def get_count_registered_atlas_probes():\n",
      "    base_uri = 'https://atlas.ripe.net'; url = '%s/api/v1/probe'%base_uri\n",
      "    try: res = get_json_resource_from_absolute_uri(url, None)\n",
      "    except Exception as e: print(e, file=sys.stderr)\n",
      "    else:\n",
      "        try: total_registered = res['meta']['total_count']\n",
      "        except Exception as e: print(e, file=sys.stderr)\n",
      "        else: return total_registered"
     ],
     "language": "python",
     "metadata": {},
     "outputs": [],
     "prompt_number": 62
    },
    {
     "cell_type": "markdown",
     "metadata": {},
     "source": [
      "#### Example Usage:"
     ]
    },
    {
     "cell_type": "code",
     "collapsed": false,
     "input": [
      "count = get_count_registered_atlas_probes()\n",
      "if count: print(\"# RIPE Atlas Registered Probes: %d\"%count)"
     ],
     "language": "python",
     "metadata": {},
     "outputs": [
      {
       "output_type": "stream",
       "stream": "stdout",
       "text": [
        "# RIPE Atlas Registered Probes: 11850\n"
       ]
      }
     ],
     "prompt_number": 63
    },
    {
     "cell_type": "markdown",
     "metadata": {},
     "source": [
      "- - -  \n",
      "<br/>"
     ]
    },
    {
     "cell_type": "markdown",
     "metadata": {},
     "source": [
      "#### `get_count_connected_atlas_probes(...):`\n",
      "- Returns the count of connected probes using the [RIPE Atlas probe API &rarr;](https://atlas.ripe.net/docs/rest/#probe)"
     ]
    },
    {
     "cell_type": "code",
     "collapsed": false,
     "input": [
      "def get_count_connected_atlas_probes():\n",
      "    base_uri = 'https://atlas.ripe.net'; url = '%s/api/v1/probe'%base_uri\n",
      "    offset = 0; limit = 100; connected_objects = 0\n",
      "    registered_count = get_count_registered_atlas_probes()    \n",
      "    if not registered_count: return None\n",
      "    while (offset <= registered_count):\n",
      "        query_params = {'offset': '%d'%offset, 'limit': '%d'%limit}\n",
      "        try: res = get_json_resource_from_absolute_uri(url, query_params)\n",
      "        except Exception as e: print(e, file=sys.stderr); return None\n",
      "        try: objects = res['objects']\n",
      "        except Exception as e: print(e, file=sys.stderr); return None\n",
      "        for object in objects: \n",
      "            if object['status'] == 1: connected_objects += 1\n",
      "        print('.', end='')\n",
      "        offset = offset + limit\n",
      "    print('')\n",
      "    return connected_objects"
     ],
     "language": "python",
     "metadata": {},
     "outputs": []
    },
    {
     "cell_type": "markdown",
     "metadata": {},
     "source": [
      "#### Example Usage:"
     ]
    },
    {
     "cell_type": "code",
     "collapsed": false,
     "input": [
      "count = get_count_connected_atlas_probes()\n",
      "if count: print(\"# RIPE Atlas Connected probes: %d\"%count)"
     ],
     "language": "python",
     "metadata": {},
     "outputs": [
      {
       "output_type": "stream",
       "stream": "stdout",
       "text": [
        ".."
       ]
      },
      {
       "output_type": "stream",
       "stream": "stdout",
       "text": [
        "."
       ]
      },
      {
       "output_type": "stream",
       "stream": "stdout",
       "text": [
        "."
       ]
      },
      {
       "output_type": "stream",
       "stream": "stdout",
       "text": [
        "."
       ]
      },
      {
       "output_type": "stream",
       "stream": "stdout",
       "text": [
        "."
       ]
      },
      {
       "output_type": "stream",
       "stream": "stdout",
       "text": [
        "."
       ]
      },
      {
       "output_type": "stream",
       "stream": "stdout",
       "text": [
        "."
       ]
      },
      {
       "output_type": "stream",
       "stream": "stdout",
       "text": [
        "."
       ]
      },
      {
       "output_type": "stream",
       "stream": "stdout",
       "text": [
        "."
       ]
      },
      {
       "output_type": "stream",
       "stream": "stdout",
       "text": [
        "."
       ]
      },
      {
       "output_type": "stream",
       "stream": "stdout",
       "text": [
        "."
       ]
      },
      {
       "output_type": "stream",
       "stream": "stdout",
       "text": [
        "."
       ]
      },
      {
       "output_type": "stream",
       "stream": "stdout",
       "text": [
        "."
       ]
      },
      {
       "output_type": "stream",
       "stream": "stdout",
       "text": [
        "."
       ]
      },
      {
       "output_type": "stream",
       "stream": "stdout",
       "text": [
        "."
       ]
      },
      {
       "output_type": "stream",
       "stream": "stdout",
       "text": [
        "."
       ]
      },
      {
       "output_type": "stream",
       "stream": "stdout",
       "text": [
        "."
       ]
      },
      {
       "output_type": "stream",
       "stream": "stdout",
       "text": [
        "."
       ]
      },
      {
       "output_type": "stream",
       "stream": "stdout",
       "text": [
        "."
       ]
      },
      {
       "output_type": "stream",
       "stream": "stdout",
       "text": [
        "."
       ]
      },
      {
       "output_type": "stream",
       "stream": "stdout",
       "text": [
        "."
       ]
      },
      {
       "output_type": "stream",
       "stream": "stdout",
       "text": [
        "."
       ]
      },
      {
       "output_type": "stream",
       "stream": "stdout",
       "text": [
        "."
       ]
      },
      {
       "output_type": "stream",
       "stream": "stdout",
       "text": [
        "."
       ]
      },
      {
       "output_type": "stream",
       "stream": "stdout",
       "text": [
        "."
       ]
      },
      {
       "output_type": "stream",
       "stream": "stdout",
       "text": [
        "."
       ]
      },
      {
       "output_type": "stream",
       "stream": "stdout",
       "text": [
        "."
       ]
      },
      {
       "output_type": "stream",
       "stream": "stdout",
       "text": [
        "."
       ]
      },
      {
       "output_type": "stream",
       "stream": "stdout",
       "text": [
        "."
       ]
      },
      {
       "output_type": "stream",
       "stream": "stdout",
       "text": [
        "."
       ]
      },
      {
       "output_type": "stream",
       "stream": "stdout",
       "text": [
        "."
       ]
      },
      {
       "output_type": "stream",
       "stream": "stdout",
       "text": [
        "."
       ]
      },
      {
       "output_type": "stream",
       "stream": "stdout",
       "text": [
        "."
       ]
      },
      {
       "output_type": "stream",
       "stream": "stdout",
       "text": [
        "."
       ]
      },
      {
       "output_type": "stream",
       "stream": "stdout",
       "text": [
        "."
       ]
      },
      {
       "output_type": "stream",
       "stream": "stdout",
       "text": [
        "."
       ]
      },
      {
       "output_type": "stream",
       "stream": "stdout",
       "text": [
        "."
       ]
      },
      {
       "output_type": "stream",
       "stream": "stdout",
       "text": [
        "."
       ]
      },
      {
       "output_type": "stream",
       "stream": "stdout",
       "text": [
        "."
       ]
      },
      {
       "output_type": "stream",
       "stream": "stdout",
       "text": [
        "."
       ]
      },
      {
       "output_type": "stream",
       "stream": "stdout",
       "text": [
        "."
       ]
      },
      {
       "output_type": "stream",
       "stream": "stdout",
       "text": [
        "."
       ]
      },
      {
       "output_type": "stream",
       "stream": "stdout",
       "text": [
        "."
       ]
      },
      {
       "output_type": "stream",
       "stream": "stdout",
       "text": [
        "."
       ]
      },
      {
       "output_type": "stream",
       "stream": "stdout",
       "text": [
        "."
       ]
      },
      {
       "output_type": "stream",
       "stream": "stdout",
       "text": [
        "."
       ]
      },
      {
       "output_type": "stream",
       "stream": "stdout",
       "text": [
        "."
       ]
      },
      {
       "output_type": "stream",
       "stream": "stdout",
       "text": [
        "."
       ]
      },
      {
       "output_type": "stream",
       "stream": "stdout",
       "text": [
        "."
       ]
      },
      {
       "output_type": "stream",
       "stream": "stdout",
       "text": [
        "."
       ]
      },
      {
       "output_type": "stream",
       "stream": "stdout",
       "text": [
        "."
       ]
      },
      {
       "output_type": "stream",
       "stream": "stdout",
       "text": [
        "."
       ]
      },
      {
       "output_type": "stream",
       "stream": "stdout",
       "text": [
        "."
       ]
      },
      {
       "output_type": "stream",
       "stream": "stdout",
       "text": [
        "."
       ]
      },
      {
       "output_type": "stream",
       "stream": "stdout",
       "text": [
        "."
       ]
      },
      {
       "output_type": "stream",
       "stream": "stdout",
       "text": [
        "."
       ]
      }
     ]
    },
    {
     "cell_type": "markdown",
     "metadata": {},
     "source": [
      "- - -\n",
      "<br/><br/><br/>"
     ]
    },
    {
     "cell_type": "markdown",
     "metadata": {},
     "source": [
      "<img id=\"requests-ripestat\" align=\"left\" width=\"60%\" src=\"http://i.imgur.com/IMYGxf3.png\">"
     ]
    },
    {
     "cell_type": "markdown",
     "metadata": {},
     "source": [
      "###`requests +` [`stat.ripe.net` &rarr;](https://stat.ripe.net)"
     ]
    },
    {
     "cell_type": "code",
     "collapsed": false,
     "input": [
      "import requests"
     ],
     "language": "python",
     "metadata": {},
     "outputs": []
    },
    {
     "cell_type": "markdown",
     "metadata": {},
     "source": [
      "#### `get_holder_from_asn(...)`\n",
      "- Takes ASN as input\n",
      "- Fetch the holder organization name associated with the ASN using the [RIPEstat Data API &rarr;](https://stat.ripe.net/docs/data_api)\n",
      "- Returns the fetched organization name associated with the ASN."
     ]
    },
    {
     "cell_type": "code",
     "collapsed": false,
     "input": [
      "def get_holder_from_asn(asn):\n",
      "    base_uri = 'https://stat.ripe.net'; url = '%s/data/as-overview/data.json'%base_uri\n",
      "    params = {'resource' : asn}\n",
      "    try: res = get_json_resource_from_absolute_uri(url, params)\n",
      "    except Exception as e: print(e, file=sys.stderr)\n",
      "    try: holder = res['data']['holder']\n",
      "    except Exception as e: print(e, file=sys.stderr)\n",
      "    return holder"
     ],
     "language": "python",
     "metadata": {},
     "outputs": []
    },
    {
     "cell_type": "markdown",
     "metadata": {},
     "source": [
      "#### Example:"
     ]
    },
    {
     "cell_type": "code",
     "collapsed": false,
     "input": [
      "asn = '15169'\n",
      "holder = get_holder_from_asn(asn)\n",
      "print('%s => %s'%(asn, holder))"
     ],
     "language": "python",
     "metadata": {},
     "outputs": []
    },
    {
     "cell_type": "markdown",
     "metadata": {},
     "source": [
      "- - -  \n",
      "<br/>"
     ]
    },
    {
     "cell_type": "markdown",
     "metadata": {},
     "source": [
      "#### `get_asn_from_endpoint(...):`\n",
      "\n",
      "- Takes an IP endpoint as input\n",
      "- Using the [RIPEstat Data API &rarr;](https://stat.ripe.net/docs/data_api)\n",
      "    - Calculates the 1<sup>st</sup>-level less-specific prefix encompassing the IP endpoint.\n",
      "    - Fetches the ASN (`ASN`) announcing the prefix.\n",
      "    - Fetches the holder organization name (`holder`) associated with the ASN. \n",
      "- Returns a list of `(ASN, holder)` tuple."
     ]
    },
    {
     "cell_type": "code",
     "collapsed": false,
     "input": [
      "def get_asn_from_endpoint(endpoint):\n",
      "    asn = holder = None\n",
      "    base_uri = 'https://stat.ripe.net'; url = '%s/data/prefix-overview/data.json'%base_uri\n",
      "    params = {'resource' : endpoint}\n",
      "    try: res = get_json_resource_from_absolute_uri(url, params)\n",
      "    except Exception as e: print(e, file=sys.stderr); return None\n",
      "    try:\n",
      "        asns_holders = []\n",
      "        for item in res['data']['asns']:\n",
      "            asn = item['asn']; holder = item['holder']\n",
      "            asns_holders.append((asn, holder))\n",
      "    except Exception as e: print(e, file=sys.stderr)\n",
      "    return asns_holders"
     ],
     "language": "python",
     "metadata": {},
     "outputs": []
    },
    {
     "cell_type": "markdown",
     "metadata": {},
     "source": [
      "#### Example:"
     ]
    },
    {
     "cell_type": "code",
     "collapsed": false,
     "input": [
      "ep4 = '8.8.8.8'\n",
      "ep6 = '2001:4860:4860::8888'\n",
      "\n",
      "asns_holders_v4 = get_asn_from_endpoint(ep4)\n",
      "asns_holders_v6 = get_asn_from_endpoint(ep6)\n",
      "\n",
      "print('%s'%ep4)\n",
      "for asn, holder in asns_holders_v4: print('=> %d, %s'%(asn, holder))\n",
      "    \n",
      "print('\\n%s'%ep6)\n",
      "for asn, holder in asns_holders_v6: print('=> %d, %s'%(asn, holder))"
     ],
     "language": "python",
     "metadata": {},
     "outputs": []
    },
    {
     "cell_type": "markdown",
     "metadata": {},
     "source": [
      "- - -\n",
      "<br/>"
     ]
    },
    {
     "cell_type": "markdown",
     "metadata": {},
     "source": [
      "#### `create_pretty_node_names(...)`\n",
      "- Takes ASN and associated holder organization name as input\n",
      "- Returns the pretty-printed form of input"
     ]
    },
    {
     "cell_type": "code",
     "collapsed": false,
     "input": [
      "def create_pretty_node_names(asn, holder):\n",
      "    firstname = holder.split('-')[0].split(' ')[0]\n",
      "    if 'AS' in str(asn): nodename = '%s (%s)'%(firstname, asn)\n",
      "    else: nodename = '%s (AS%s)'%(firstname, asn)\n",
      "    return nodename"
     ],
     "language": "python",
     "metadata": {},
     "outputs": []
    },
    {
     "cell_type": "markdown",
     "metadata": {},
     "source": [
      "#### Example:"
     ]
    },
    {
     "cell_type": "code",
     "collapsed": false,
     "input": [
      "node = create_pretty_node_names(asn, holder)\n",
      "print(node)"
     ],
     "language": "python",
     "metadata": {},
     "outputs": []
    },
    {
     "cell_type": "markdown",
     "metadata": {},
     "source": [
      "- - -\n",
      "[Back to Top](#top)\n",
      "<br/><br/><br/><br/>"
     ]
    },
    {
     "cell_type": "markdown",
     "metadata": {},
     "source": [
      "## <a id=\"frictionless-sql-storage\">Frictionless SQL storage</a>\n",
      "<hr/>"
     ]
    },
    {
     "cell_type": "markdown",
     "metadata": {},
     "source": [
      "* [`pandas + DataFrame`](#pandas-dataframe)\n",
      "* [`pandas + to_sql`](#pandas-to-sql)\n",
      "\n",
      "<br/><br/><br/>"
     ]
    },
    {
     "cell_type": "markdown",
     "metadata": {},
     "source": [
      "<img id=\"pandas-dataframe\" align=\"left\" width=\"50%\" src=\"http://i.imgur.com/gMN0B9a.png\">"
     ]
    },
    {
     "cell_type": "markdown",
     "metadata": {},
     "source": [
      "### [`pandas` &rarr;](http://pandas.pydata.org/) + `DataFrame`"
     ]
    },
    {
     "cell_type": "code",
     "collapsed": false,
     "input": [
      "import pandas as pd"
     ],
     "language": "python",
     "metadata": {},
     "outputs": []
    },
    {
     "cell_type": "markdown",
     "metadata": {},
     "source": [
      "#### `pandas.DataFrame(...)`"
     ]
    },
    {
     "cell_type": "markdown",
     "metadata": {},
     "source": [
      "- We use the [RIPE Atlas probe archive API &rarr;](https://atlas.ripe.net/docs/rest/#probe-archive)\n",
      "- We only show few probe API fields for brevity reasons.\n",
      "- The probe ID is set as the index of the `DataFrame`."
     ]
    },
    {
     "cell_type": "code",
     "collapsed": false,
     "input": [
      "url = 'https://atlas.ripe.net/api/v1/probe-archive/'\n",
      "res = get_json_resource_from_absolute_uri(url, {'format': json})\n",
      "df = pd.DataFrame(res['objects'])\n",
      "df[['id', 'asn_v4', 'asn_v6', 'country_code', 'status_name', 'tags']].head()\n"
     ],
     "language": "python",
     "metadata": {},
     "outputs": []
    },
    {
     "cell_type": "markdown",
     "metadata": {},
     "source": [
      "- - -\n",
      "<br/><br/><br/>"
     ]
    },
    {
     "cell_type": "markdown",
     "metadata": {},
     "source": [
      "### <a id=\"pandas-to-sql\">`pandas` + `to_sql(...)`</a>"
     ]
    },
    {
     "cell_type": "markdown",
     "metadata": {},
     "source": [
      "####`sqlite3.connect(...)` function:\n",
      "\n",
      "Connects to a `sqlite3` database:\n",
      "- Creates the database if it does not exist, or\n",
      "- Connects to the databse if it exists "
     ]
    },
    {
     "cell_type": "code",
     "collapsed": false,
     "input": [
      "import sqlite3\n",
      "DBNAME = 'ripe69-toolset.db'\n",
      "con = sqlite3.connect(DBNAME)"
     ],
     "language": "python",
     "metadata": {},
     "outputs": []
    },
    {
     "cell_type": "markdown",
     "metadata": {},
     "source": [
      "We need to unbox DataFrame columns of a object datatype into a string representation to allow insertion into a SQL table"
     ]
    },
    {
     "cell_type": "code",
     "collapsed": false,
     "input": [
      "for c in df.columns:\n",
      "    if df[c].dtype == object: df[c] = df[c].astype(str)"
     ],
     "language": "python",
     "metadata": {},
     "outputs": []
    },
    {
     "cell_type": "code",
     "collapsed": false,
     "input": [
      "df = df.set_index('id')"
     ],
     "language": "python",
     "metadata": {},
     "outputs": []
    },
    {
     "cell_type": "markdown",
     "metadata": {},
     "source": [
      "####`DataFrame.to_sql(...)`:\n",
      "\n",
      "Write DataFrame records to a SQL database table:\n",
      "- Creates the table (with the supplied table name) if it does not exit.\n",
      "- Overwrites if the table (with the suppleid table name) exists.\n",
      "- Inserts the records within a DataFrame into the table."
     ]
    },
    {
     "cell_type": "code",
     "collapsed": false,
     "input": [
      "try: cur = con.execute('pragma foreign_keys=ON')\n",
      "except Exception as e: print(e, file=sys.stderr)\n",
      "else:\n",
      "    TABLENAME = 'ra_probe_api_2014'\n",
      "    try:\n",
      "        df.to_sql( '%s'%TABLENAME\n",
      "                  , con\n",
      "                  , flavor='sqlite'\n",
      "                  , if_exists = 'replace'\n",
      "                  , index_label = 'id'\n",
      "                 )\n",
      "    except Exception as e: print(e, file=sys.stderr)\n",
      "con.commit()"
     ],
     "language": "python",
     "metadata": {},
     "outputs": []
    },
    {
     "cell_type": "markdown",
     "metadata": {},
     "source": [
      "- - -\n",
      "[Back to Top](#top)\n",
      "<br/><br/><br/><br/>"
     ]
    },
    {
     "cell_type": "markdown",
     "metadata": {},
     "source": [
      "## <a id=\"frictionless-data-retrieval\">Frictionless Data Retrieval</a>\n",
      "<hr/>"
     ]
    },
    {
     "cell_type": "markdown",
     "metadata": {},
     "source": [
      "### `pandas` + `read(...)`"
     ]
    },
    {
     "cell_type": "markdown",
     "metadata": {},
     "source": [
      "####`pd.read(...)` function:\n",
      "- Takes a SQL connection object and a SQL query as input.\n",
      "- Applies the SQL query on the connected database and returns a `pandas DataFrame` "
     ]
    },
    {
     "cell_type": "code",
     "collapsed": false,
     "input": [
      "query = '''select id, asn_v4, asn_v6, country_code, status_name, tags from %s'''%TABLENAME\n",
      "df = pd.read_sql(query, con)\n",
      "df.head()"
     ],
     "language": "python",
     "metadata": {},
     "outputs": []
    },
    {
     "cell_type": "markdown",
     "metadata": {},
     "source": [
      "- - -\n",
      "[Back to Top](#top)\n",
      "<br/><br/><br/><br/>"
     ]
    },
    {
     "cell_type": "markdown",
     "metadata": {},
     "source": [
      "## <a id=\"data-analysis\">Data Analysis</a>\n",
      "<hr/>"
     ]
    },
    {
     "cell_type": "markdown",
     "metadata": {},
     "source": [
      "### <a id=\"ipaddress\">`python3 ipaddress`</a>"
     ]
    },
    {
     "cell_type": "code",
     "collapsed": false,
     "input": [
      "import ipaddress"
     ],
     "language": "python",
     "metadata": {},
     "outputs": []
    },
    {
     "cell_type": "markdown",
     "metadata": {},
     "source": [
      "####`ipaddress.ip_address(...)` :\n",
      "Creates an IPv4/ipv6 address object from the input string  "
     ]
    },
    {
     "cell_type": "code",
     "collapsed": false,
     "input": [
      "try: \n",
      "    myipv4 = ipaddress.ip_address(ep4)\n",
      "    myipv6 = ipaddress.ip_address(ep6)\n",
      "except Exception as e:  print(e, file=sys.stderr)\n",
      "else: \n",
      "    print('%s => %s'%(myipv4, type(myipv4)))\n",
      "    print('%s => %s'%(myipv6, type(myipv6)))"
     ],
     "language": "python",
     "metadata": {},
     "outputs": []
    },
    {
     "cell_type": "markdown",
     "metadata": {},
     "source": [
      "####`ipaddress.is_private`:\n",
      "\n",
      "- Returns `True` if IP endpoint is Private [RFC1918 &rarr;](https://tools.ietf.org/html/rfc1918)\n",
      "- Returns `False` if IP endpoint is not Private [RFC1918 &rarr;](https://tools.ietf.org/html/rfc1918)"
     ]
    },
    {
     "cell_type": "code",
     "collapsed": false,
     "input": [
      "print('Is %s Private [RFC1918]? => %s'%(myipv4, myipv4.is_private))"
     ],
     "language": "python",
     "metadata": {},
     "outputs": []
    },
    {
     "cell_type": "markdown",
     "metadata": {},
     "source": [
      "####`ipaddress.version`:\n",
      "\n",
      "- Returns 4 if IP endpoint is IPv4.\n",
      "- Returns 6 if IP endpoint is IPv6.\n"
     ]
    },
    {
     "cell_type": "code",
     "collapsed": false,
     "input": [
      "print(\"%s => IPv%s\"%(myipv4, myipv4.version))\n",
      "print(\"%s => IPv%s\"%(myipv6,myipv6.version))"
     ],
     "language": "python",
     "metadata": {},
     "outputs": []
    },
    {
     "cell_type": "markdown",
     "metadata": {},
     "source": [
      "- - -\n",
      "[Back to Top](#top)\n",
      "<br/><br/><br/><br/>"
     ]
    },
    {
     "cell_type": "markdown",
     "metadata": {},
     "source": [
      "## <a id=\"data-visualization\">Data Visualization</a>\n",
      "<hr/>"
     ]
    },
    {
     "cell_type": "markdown",
     "metadata": {},
     "source": [
      "<img id=\"requests\" align=\"left\" width=\"55%\" src=\"http://i.imgur.com/3IdNzuN.png\">"
     ]
    },
    {
     "cell_type": "markdown",
     "metadata": {},
     "source": [
      "### `pandas + matplotlib`\n",
      "\n",
      "- Uses `Pandas.read_sql(...)` to read the probe ID and ASN v4 from the sqlite3 table (dump of the probe API data).\n",
      "- Uses `DataFrame.groupby(...)` to group the probe IDs by ASN v4.\n",
      "- Uses `DataFrameGroupby.agg(...)` to aggregate by counting the number of probes behind each ASN v4.\n",
      "- Uses `DataFrame.sort(...)` to sort the ASN v4 aggregates by number of probes."
     ]
    },
    {
     "cell_type": "code",
     "collapsed": false,
     "input": [
      "query = '''select id, asn_v4 from %s'''%TABLENAME\n",
      "df = pd.read_sql(query, con)\n",
      "dfgroupby = df.groupby('asn_v4')\n",
      "dfagg = dfgroupby.agg(len)\n",
      "dfsort = dfagg.sort('id', ascending=False)\n",
      "df = dfsort.reset_index().reset_index()\n",
      "df['index'] = df['index'].apply(lambda x: x+1)"
     ],
     "language": "python",
     "metadata": {},
     "outputs": []
    },
    {
     "cell_type": "markdown",
     "metadata": {},
     "source": [
      "- Uses `DataFrame.plot(...)` to plot the distribution of number of probes by ASN index (designated by the number of deployed probes)."
     ]
    },
    {
     "cell_type": "code",
     "collapsed": false,
     "input": [
      "ax = df.plot('index', 'id', logx = True, kind = 'area', legend = False, figsize = (12,8))\n",
      "ax.set_ylabel(\"# of Registered RIPE Atlas probes\", fontsize=18)\n",
      "ax.set_xlabel(\"ASN index (log scale)\", fontsize=18)"
     ],
     "language": "python",
     "metadata": {},
     "outputs": []
    },
    {
     "cell_type": "markdown",
     "metadata": {},
     "source": [
      "[Back to Top](#top)\n",
      "<br/><br/><br/><br/>"
     ]
    },
    {
     "cell_type": "markdown",
     "metadata": {},
     "source": [
      "<img id=\"requests\" align=\"left\" width=\"55%\" src=\"http://i.imgur.com/qqwclZR.png\">"
     ]
    },
    {
     "cell_type": "markdown",
     "metadata": {},
     "source": [
      "### Work Supported by Leone Project: [leone-project.eu &rarr;](http://leone-project.eu/) ###"
     ]
    }
   ],
   "metadata": {}
  }
 ]
}